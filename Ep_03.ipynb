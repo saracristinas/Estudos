{
  "nbformat": 4,
  "nbformat_minor": 0,
  "metadata": {
    "colab": {
      "name": "Ep. #03.ipynb",
      "provenance": [],
      "include_colab_link": true
    },
    "kernelspec": {
      "name": "python3",
      "display_name": "Python 3"
    }
  },
  "cells": [
    {
      "cell_type": "markdown",
      "metadata": {
        "id": "view-in-github",
        "colab_type": "text"
      },
      "source": [
        "<a href=\"https://colab.research.google.com/github/saracristinas/Estudos/blob/main/Ep_03.ipynb\" target=\"_parent\"><img src=\"https://colab.research.google.com/assets/colab-badge.svg\" alt=\"Open In Colab\"/></a>"
      ]
    },
    {
      "cell_type": "code",
      "metadata": {
        "id": "61gabbrNGfpy"
      },
      "source": [
        "# Aula - Ep. #03 - Mini Curso de #IP\n",
        "# Operadores Aritméticos em Python\n",
        "# GitHub do mini curso: https://github.com/clovesrocha/minicursoip\n",
        "\n",
        "# + adição\n",
        "# - subtração\n",
        "# * multiplicação\n",
        "# / divisão\n",
        "# ** exponenciação\n",
        "# // divisão inteira\n",
        "# % resto da divisão\n",
        "\n",
        "#c = 2**3\n",
        "#print(c)\n",
        "#r = 10//3\n",
        "#print(r)\n",
        "#r = 10%3\n",
        "#print(r)\n",
        "#c = 3*3\n",
        "#print(c)\n"
      ],
      "execution_count": 3,
      "outputs": []
    }
  ]
}